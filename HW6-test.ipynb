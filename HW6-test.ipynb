{
 "cells": [
  {
   "cell_type": "code",
   "execution_count": 1,
   "id": "60c99ccf",
   "metadata": {},
   "outputs": [],
   "source": [
    "from src.models import hmm, decoders\n",
    "import numpy as np"
   ]
  },
  {
   "cell_type": "code",
   "execution_count": 2,
   "id": "c4b3bcc5",
   "metadata": {},
   "outputs": [],
   "source": [
    "obs_states = ['regulatory', 'regulatory-potential']\n",
    "hid_states = ['encode_atac', 'atac']\n",
    "\n",
    "# Import the HMM input data for progenitor cardiomyocytes (prefix: prog_cm)\n",
    "prog_cm_data = np.load('./data/ProjectDeliverable-ProgenitorCMs.npz')\n",
    "prob_prior = prog_cm_data['prior_probabilities']\n",
    "prob_trans = prog_cm_data['transition_probabilities']\n",
    "prob_emiss = prog_cm_data['emission_probabilities']\n",
    "\n",
    "HMM = hmm.HiddenMarkovModel(observation_states = obs_states,\n",
    "                           hidden_states = hid_states,\n",
    "                           prior_probabilities = prob_prior,\n",
    "                           transition_probabilities = prob_trans,\n",
    "                           emission_probabilities = prob_emiss)"
   ]
  },
  {
   "cell_type": "code",
   "execution_count": 3,
   "id": "6b3cd563",
   "metadata": {},
   "outputs": [],
   "source": [
    "# Instantiate submodule class models.ViterbiAlgorithm with the progenitor cardiomyocyte's HMM\n",
    "prog_cm_viterbi_instance = decoders.ViterbiAlgorithm(HMM)\n",
    "# prog_cm_viterbi_instance.best_hidden_state_sequence(prog_cm_data['observation_states'])"
   ]
  },
  {
   "cell_type": "code",
   "execution_count": 4,
   "id": "76e9820d",
   "metadata": {},
   "outputs": [],
   "source": [
    "# Decode the hidden states (i.e., CRE selection strategy) for the progenitor CMs and evaluate the model performace\n",
    "evaluate_viterbi_decoder_using_observation_states_of_prog_cm = prog_cm_viterbi_instance.best_hidden_state_sequence(prog_cm_data['observation_states'])"
   ]
  },
  {
   "cell_type": "code",
   "execution_count": 5,
   "id": "35e119fb",
   "metadata": {},
   "outputs": [
    {
     "data": {
      "text/plain": [
       "(array(['atac', 'atac', 'encode_atac', 'encode_atac', 'encode_atac',\n",
       "        'atac', 'encode_atac', 'atac', 'atac', 'atac'], dtype='<U11'),\n",
       " 3.019898880000002e-06)"
      ]
     },
     "execution_count": 5,
     "metadata": {},
     "output_type": "execute_result"
    }
   ],
   "source": [
    "evaluate_viterbi_decoder_using_observation_states_of_prog_cm"
   ]
  },
  {
   "cell_type": "code",
   "execution_count": 6,
   "id": "9e2522d7",
   "metadata": {},
   "outputs": [
    {
     "data": {
      "text/plain": [
       "array(['regulatory', 'regulatory-potential', 'regulatory-potential',\n",
       "       'regulatory-potential', 'regulatory', 'regulatory-potential',\n",
       "       'regulatory', 'regulatory', 'regulatory', 'regulatory-potential'],\n",
       "      dtype='<U20')"
      ]
     },
     "execution_count": 6,
     "metadata": {},
     "output_type": "execute_result"
    }
   ],
   "source": [
    "decode_observation_states = prog_cm_data['observation_states']\n",
    "decode_observation_states"
   ]
  },
  {
   "cell_type": "code",
   "execution_count": 7,
   "id": "3a4dfe45",
   "metadata": {},
   "outputs": [
    {
     "name": "stdout",
     "output_type": "stream",
     "text": [
      "Prior probabilities\n",
      "[0.5 0.5]\n",
      "Transmission probabilities\n",
      "[[0.4 0.6]\n",
      " [0.5 0.5]]\n",
      "Emission probabilities\n",
      "[[0.6 0.4]\n",
      " [0.8 0.2]]\n"
     ]
    }
   ],
   "source": [
    "print(\"Prior probabilities\")\n",
    "print(prob_prior)\n",
    "print(\"Transmission probabilities\")\n",
    "print(prob_trans)\n",
    "print(\"Emission probabilities\")\n",
    "print(prob_emiss)"
   ]
  },
  {
   "cell_type": "code",
   "execution_count": 8,
   "id": "73c07c2f",
   "metadata": {},
   "outputs": [],
   "source": [
    "def trellis_node_step (prev_delta, prob_emiss, prob_trans, observed_state):\n",
    "    possible_state = np.multiply(prev_delta, prob_trans.T)\n",
    "    probable_state = np.argmax(possible_state, axis = 1)\n",
    "    \n",
    "    probable_state_vals = np.amax(possible_state, axis = 1)\n",
    "    \n",
    "    _delta = np.multiply(probable_state_vals, prob_emiss)\n",
    "    new_delta = _delta[:, observed_state]\n",
    "    \n",
    "    return new_delta, probable_state"
   ]
  },
  {
   "cell_type": "code",
   "execution_count": 9,
   "id": "d4f48d1a",
   "metadata": {},
   "outputs": [],
   "source": [
    "# This is the probability of each hidden state\n",
    "hidden_state_prob = np.zeros((len(decode_observation_states), \n",
    "                              len(HMM.hidden_states)))\n",
    "\n",
    "# Given the starting probabilites, what are the possible emission probabilies?\n",
    "# calculate the intial delta\n",
    "delta = np.multiply(prob_prior, prob_emiss)\n",
    "hidden_state_prob[0,:] = delta[:, HMM.observation_states_dict[decode_observation_states[0]]]\n",
    "\n",
    "\n",
    "\n",
    "all_prev_states = np.zeros((len(decode_observation_states), \n",
    "                              len(HMM.hidden_states)))\n",
    "all_prev_states[0,:] = [hidden_state_index for hidden_state_index in range(len(HMM.hidden_states))]\n",
    "\n",
    "# Loop through each observation state node:\n",
    "for trellis_node in range(1, len(decode_observation_states)): \n",
    "    # Get the hidden state of the previous step\n",
    "    prev_delta = hidden_state_prob[trellis_node-1, :]\n",
    "    observed_state = HMM.observation_states_dict[decode_observation_states[trellis_node]]\n",
    "    \n",
    "    new_delta, prev_states = trellis_node_step(prev_delta, prob_emiss, prob_trans, observed_state)\n",
    "    hidden_state_prob[trellis_node, :] = new_delta\n",
    "    all_prev_states[trellis_node, :] = prev_states"
   ]
  },
  {
   "cell_type": "code",
   "execution_count": 10,
   "id": "146cd619",
   "metadata": {
    "scrolled": true
   },
   "outputs": [
    {
     "name": "stdout",
     "output_type": "stream",
     "text": [
      "[1. 1.]\n",
      "0\n",
      "[1. 1.]\n",
      "1\n",
      "[1. 1.]\n",
      "2\n",
      "[0. 0.]\n",
      "3\n",
      "[1. 1.]\n",
      "4\n",
      "[0. 0.]\n",
      "5\n",
      "[0. 0.]\n",
      "6\n",
      "[0. 0.]\n",
      "7\n",
      "[1. 1.]\n",
      "8\n",
      "[0. 1.]\n",
      "9\n"
     ]
    }
   ],
   "source": [
    "# Get highest probability sequence\n",
    "state = np.argmax(new_delta)\n",
    "sequence_prob = np.amax(new_delta)\n",
    "best_path = []\n",
    "\n",
    "idx = 0\n",
    "for prev_states in all_prev_states[::-1]:\n",
    "    print(prev_states)\n",
    "    print(idx)\n",
    "    idx += 1\n",
    "    state = prev_states[int(state)]\n",
    "    best_path.append(state)\n",
    "hidden_state_path = np.array([HMM.hidden_states_dict[i] for i in best_path[::-1]])"
   ]
  },
  {
   "cell_type": "code",
   "execution_count": 10,
   "id": "6ff91dda",
   "metadata": {},
   "outputs": [
    {
     "ename": "NameError",
     "evalue": "name 'hidden_state_path' is not defined",
     "output_type": "error",
     "traceback": [
      "\u001b[0;31m---------------------------------------------------------------------------\u001b[0m",
      "\u001b[0;31mNameError\u001b[0m                                 Traceback (most recent call last)",
      "Input \u001b[0;32mIn [10]\u001b[0m, in \u001b[0;36m<cell line: 1>\u001b[0;34m()\u001b[0m\n\u001b[0;32m----> 1\u001b[0m \u001b[43mhidden_state_path\u001b[49m\n",
      "\u001b[0;31mNameError\u001b[0m: name 'hidden_state_path' is not defined"
     ]
    }
   ],
   "source": [
    "hidden_state_path"
   ]
  },
  {
   "cell_type": "code",
   "execution_count": 17,
   "id": "fa0cc4cc",
   "metadata": {},
   "outputs": [
    {
     "data": {
      "text/plain": [
       "[1.0, 1.0, 1.0, 0.0, 1.0, 0.0, 0.0, 0.0, 1.0, 1.0]"
      ]
     },
     "execution_count": 17,
     "metadata": {},
     "output_type": "execute_result"
    }
   ],
   "source": [
    "best_path"
   ]
  },
  {
   "cell_type": "code",
   "execution_count": 12,
   "id": "30190058",
   "metadata": {},
   "outputs": [
    {
     "data": {
      "text/plain": [
       "array([[0., 1.],\n",
       "       [1., 1.],\n",
       "       [0., 0.],\n",
       "       [0., 0.],\n",
       "       [0., 0.],\n",
       "       [1., 1.],\n",
       "       [0., 0.],\n",
       "       [1., 1.],\n",
       "       [1., 1.],\n",
       "       [1., 1.]])"
      ]
     },
     "execution_count": 12,
     "metadata": {},
     "output_type": "execute_result"
    }
   ],
   "source": [
    "all_prev_states"
   ]
  },
  {
   "cell_type": "code",
   "execution_count": null,
   "id": "1b3cbf22",
   "metadata": {},
   "outputs": [],
   "source": []
  }
 ],
 "metadata": {
  "kernelspec": {
   "display_name": "Python 3 (ipykernel)",
   "language": "python",
   "name": "python3"
  },
  "language_info": {
   "codemirror_mode": {
    "name": "ipython",
    "version": 3
   },
   "file_extension": ".py",
   "mimetype": "text/x-python",
   "name": "python",
   "nbconvert_exporter": "python",
   "pygments_lexer": "ipython3",
   "version": "3.9.12"
  }
 },
 "nbformat": 4,
 "nbformat_minor": 5
}
