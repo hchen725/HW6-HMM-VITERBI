{
 "cells": [
  {
   "cell_type": "code",
   "execution_count": 1,
   "id": "18926a12",
   "metadata": {},
   "outputs": [],
   "source": [
    "from src.models import hmm, decoders\n",
    "import numpy as np"
   ]
  },
  {
   "cell_type": "markdown",
   "id": "a325597f",
   "metadata": {},
   "source": [
    "# Iterating through test use case lecture"
   ]
  },
  {
   "cell_type": "code",
   "execution_count": 2,
   "id": "b6473bfa",
   "metadata": {},
   "outputs": [],
   "source": [
    "# Original implementation\n",
    "# index annotation observation_states=[i,j]    \n",
    "observation_states = ['committed','ambivalent'] # A graduate student's dedication to their rotation lab\n",
    "\n",
    "# index annotation hidden_states=[i,j]\n",
    "hidden_states = ['R01','R21'] # The NIH funding source of the graduate student's rotation project \n",
    "\n",
    "# PONDERING QUESTION: How would a user define/compute their own HMM instantiation inputs to decode the hidden states for their use case observations?\n",
    "use_case_one_data = np.load('./data/UserCase-Lecture.npz')\n",
    "\n",
    "# Instantiate submodule class models.HiddenMarkovModel with\n",
    "# observation and hidden states and prior, transition, and emission probabilities.\n",
    "use_case_one_hmm = hmm.HiddenMarkovModel(observation_states,\n",
    "                                     hidden_states,\n",
    "                  use_case_one_data['prior_probabilities'], # prior probabilities of hidden states in the order specified in the hidden_states list\n",
    "                  use_case_one_data['transition_probabilities'], # transition_probabilities[:,hidden_states[i]]\n",
    "                  use_case_one_data['emission_probabilities']) # emission_probabilities[hidden_states[i],:][:,observation_states[j]]\n",
    "\n",
    "# Instantiate submodule class models.ViterbiAlgorithm using the use case one HMM \n",
    "use_case_one_viterbi = decoders.ViterbiAlgorithm(use_case_one_hmm)"
   ]
  },
  {
   "cell_type": "code",
   "execution_count": 3,
   "id": "93d75bdd",
   "metadata": {},
   "outputs": [
    {
     "name": "stdout",
     "output_type": "stream",
     "text": [
      "Observation states\n",
      "['committed', 'ambivalent']\n",
      "Hidden states\n",
      "['R01', 'R21']\n",
      "Prior Probs\n",
      "[0.67 0.33]\n",
      "Transition Probs\n",
      "[[0.8 0.2]\n",
      " [0.4 0.6]]\n",
      "Emission Probs\n",
      "[[0.8 0.2]\n",
      " [0.4 0.6]]\n"
     ]
    }
   ],
   "source": [
    "# Pull out information\n",
    "observation_states = use_case_one_hmm.observation_states\n",
    "print(\"Observation states\")\n",
    "print(observation_states)\n",
    "observation_states_dict = use_case_one_hmm.observation_states_dict\n",
    "hidden_states = use_case_one_hmm.hidden_states\n",
    "print(\"Hidden states\")\n",
    "print(hidden_states)\n",
    "hidden_states_dict = use_case_one_hmm.hidden_states_dict\n",
    "\n",
    "prior_probs = use_case_one_hmm.prior_probabilities\n",
    "transition_probs = use_case_one_hmm.transition_probabilities\n",
    "emission_probs = use_case_one_hmm.emission_probabilities\n",
    "\n",
    "print(\"Prior Probs\")\n",
    "print(prior_probs)\n",
    "print(\"Transition Probs\")\n",
    "print(transition_probs)\n",
    "print(\"Emission Probs\")\n",
    "print(emission_probs)\n",
    "\n",
    "decode_observation_states = use_case_one_data['observation_states']"
   ]
  },
  {
   "cell_type": "code",
   "execution_count": 4,
   "id": "5d638d34",
   "metadata": {},
   "outputs": [],
   "source": [
    "num_hidden = len(hidden_states)    # Number of hidden states\n",
    "num_obs = len(decode_observation_states)  # Length of observation sequence\n",
    "\n",
    "# Initialize D and E matrices\n",
    "all_deltas = np.zeros((num_hidden, num_obs)) # all deltas\n",
    "paths = np.zeros((num_hidden, num_obs))\n",
    "paths[:,0] = [hidden_state_index for hidden_state_index in range(len(hidden_states))]\n",
    "all_deltas[:, 0] = np.multiply(prior_probs, emission_probs[:, observation_states_dict[decode_observation_states[0]]])\n",
    "\n",
    "# Compute D and E in a nested loop\n",
    "for trellis_node in range(1, num_obs):\n",
    "    current_observation_state = observation_states_dict[decode_observation_states[trellis_node]]\n",
    "    for _hidden_state in range(0,num_hidden):\n",
    "        delta_trans = np.multiply(transition_probs[:, _hidden_state], all_deltas[:, trellis_node-1])\n",
    "        new_delta = np.max(delta_trans) * emission_probs[_hidden_state, current_observation_state]\n",
    "        all_deltas[_hidden_state, trellis_node] = new_delta\n",
    "        paths[_hidden_state, trellis_node] = np.argmax(delta_trans)"
   ]
  },
  {
   "cell_type": "code",
   "execution_count": 5,
   "id": "185edbed",
   "metadata": {},
   "outputs": [
    {
     "name": "stdout",
     "output_type": "stream",
     "text": [
      "5\n",
      "4\n",
      "3\n",
      "2\n",
      "1\n",
      "0\n"
     ]
    }
   ],
   "source": [
    "# Back trace\n",
    "best_path = np.zeros(num_obs).astype(np.int32)\n",
    "# Get the index of the final delta\n",
    "best_path[num_obs-1] = np.argmax(all_deltas[:, num_obs-1])\n",
    "for n in range(num_obs-1, -1, -1):\n",
    "    print(n)\n",
    "    best_path[n-1] = paths[int(best_path[n]), n]\n",
    "\n",
    "# Convert best_path into words\n",
    "hidden_state_path = np.array([hidden_states_dict[i] for i in best_path])"
   ]
  },
  {
   "cell_type": "code",
   "execution_count": 6,
   "id": "3f0f2bf6",
   "metadata": {
    "scrolled": true
   },
   "outputs": [
    {
     "name": "stdout",
     "output_type": "stream",
     "text": [
      "Best path\n",
      "[0 0 1 1 1 0]\n",
      "Hidden state path\n",
      "['R01' 'R01' 'R21' 'R21' 'R21' 'R01']\n",
      "['R01' 'R01' 'R21' 'R21' 'R21' 'R01']\n"
     ]
    }
   ],
   "source": [
    "print(\"Best path\")\n",
    "print(best_path)\n",
    "print(\"Hidden state path\")\n",
    "print(hidden_state_path)\n",
    "\n",
    "print(use_case_one_data['hidden_states'])"
   ]
  }
 ],
 "metadata": {
  "kernelspec": {
   "display_name": "Python 3 (ipykernel)",
   "language": "python",
   "name": "python3"
  },
  "language_info": {
   "codemirror_mode": {
    "name": "ipython",
    "version": 3
   },
   "file_extension": ".py",
   "mimetype": "text/x-python",
   "name": "python",
   "nbconvert_exporter": "python",
   "pygments_lexer": "ipython3",
   "version": "3.9.15"
  }
 },
 "nbformat": 4,
 "nbformat_minor": 5
}
