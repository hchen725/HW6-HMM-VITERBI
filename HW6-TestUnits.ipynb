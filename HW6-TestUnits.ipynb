{
 "cells": [
  {
   "cell_type": "code",
   "execution_count": 27,
   "id": "222879c5",
   "metadata": {},
   "outputs": [],
   "source": [
    "from src.models import hmm, decoders\n",
    "import numpy as np\n",
    "\n",
    "def trellis_node_step (prev_delta, prob_emiss, prob_trans, current_observation):\n",
    "    # Multiply previous delta with transition probabilities \n",
    "    _delta_trans = np.multiply(prev_delta, prob_trans.T)\n",
    "    # Get the likely scenario of the node\n",
    "    probable_state = np.argmax(_delta_trans, axis = 1)\n",
    "    probable_state_probs = np.amax(_delta_trans, axis = 1)\n",
    "    # Calculate the new delta\n",
    "    new_delta = probable_state_probs * prob_emiss[:, current_observation]\n",
    "    return new_delta, probable_state"
   ]
  },
  {
   "cell_type": "code",
   "execution_count": 28,
   "id": "981cffef",
   "metadata": {},
   "outputs": [],
   "source": [
    "# index annotation observation_states=[i,j]    \n",
    "observation_states = ['on-time','late'] \n",
    "\n",
    "# index annotation hidden_states=[i,j]\n",
    "hidden_states = ['no-traffic','traffic']\n",
    "\n",
    "# PONDERING QUESTION: How would a user define/compute their own HMM instantiation inputs to decode the hidden states for their use case observations?\n",
    "use_case_one_data = np.load('./data/UserCase-One.npz')\n",
    "\n",
    "\n",
    "# Edit for the last hidden states \n",
    "new_hidden_states = np.array(['no-traffic', 'no-traffic', 'traffic', 'traffic', 'traffic', 'no-traffic'])\n",
    "\n",
    "# Instantiate submodule class models.HiddenMarkovModel with\n",
    "# observation and hidden states and prior, transition, and emission probabilities.\n",
    "use_case_one_hmm = hmm.HiddenMarkovModel(observation_states,\n",
    "                                     hidden_states,\n",
    "                  use_case_one_data['prior_probabilities'], # prior probabilities of hidden states in the order specified in the hidden_states list\n",
    "                  use_case_one_data['transition_probabilities'], # transition_probabilities[:,hidden_states[i]]\n",
    "                  use_case_one_data['emission_probabilities']) # emission_probabilities[hidden_states[i],:][:,observation_states[j]]\n",
    "\n",
    "# Instantiate submodule class models.ViterbiAlgorithm using the use case one HMM \n",
    "use_case_one_viterbi = decoders.ViterbiAlgorithm(use_case_one_hmm)\n",
    "\n",
    "use_case_decoded_hidden_states = use_case_one_viterbi.best_hidden_state_sequence(use_case_one_data['observation_states'])"
   ]
  },
  {
   "cell_type": "code",
   "execution_count": 29,
   "id": "73886b45",
   "metadata": {},
   "outputs": [
    {
     "name": "stdout",
     "output_type": "stream",
     "text": [
      "Prior probabilities\n",
      "[0.67 0.33]\n",
      "Transition probabilities\n",
      "[[0.8 0.2]\n",
      " [0.4 0.6]]\n",
      "Emission probabilities\n",
      "[[0.8 0.2]\n",
      " [0.4 0.6]]\n"
     ]
    }
   ],
   "source": [
    "prior_probabilities = use_case_one_data['prior_probabilities']\n",
    "transition_probabilities = use_case_one_data['transition_probabilities']\n",
    "emission_probabilities = use_case_one_data['emission_probabilities']\n",
    "\n",
    "print(\"Prior probabilities\")\n",
    "print(prior_probabilities)\n",
    "print(\"Transition probabilities\")\n",
    "print(transition_probabilities)\n",
    "print(\"Emission probabilities\")\n",
    "print(emission_probabilities)"
   ]
  },
  {
   "cell_type": "code",
   "execution_count": 30,
   "id": "ec6c55be",
   "metadata": {},
   "outputs": [],
   "source": [
    "# match variable names\n",
    "decode_observation_states = use_case_one_data['observation_states']\n",
    "prior_probs = prior_probabilities\n",
    "emission_probs = emission_probabilities\n",
    "transition_probs = transition_probabilities\n",
    "\n",
    "observation_states_dict = use_case_one_hmm.observation_states_dict\n",
    "hidden_states_dict = use_case_one_hmm.hidden_states_dict"
   ]
  },
  {
   "cell_type": "code",
   "execution_count": 31,
   "id": "00ce4a52",
   "metadata": {},
   "outputs": [],
   "source": [
    "# Initialize to hold paths of previous states:\n",
    "all_prev_states = np.zeros((len(decode_observation_states), \n",
    "                            len(hidden_states)))\n",
    "all_prev_states[0,:] = [hidden_state_index for hidden_state_index in range(len(hidden_states))]\n",
    "\n",
    "\n",
    "# Initialize to holde hidden state probabilities\n",
    "delta = np.multiply(prior_probs, emission_probs[:,observation_states_dict[decode_observation_states[0]]])\n",
    "delta = delta / np.sum(delta)\n",
    "# Loop through each observation state node:\n",
    "for trellis_node in range(1, len(decode_observation_states)): \n",
    "#    print(\"Current trellis node: \" + str(trellis_node))\n",
    "    # Get the current observation state\n",
    "    current_observation = observation_states_dict[decode_observation_states[trellis_node]]\n",
    "#    print(\"Current observation: \" + str(observation_states_dict[decode_observation_states[trellis_node]]) + \" code: \" + str(current_observation))\n",
    "    # Calculate state and update delta\n",
    "    delta, prev_states = trellis_node_step(delta, emission_probs, transition_probs, current_observation)\n",
    "#     print(\"Updated delta\")\n",
    "#     print(delta)\n",
    "    # Store states\n",
    "    all_prev_states[trellis_node, :] = prev_states"
   ]
  },
  {
   "cell_type": "code",
   "execution_count": 32,
   "id": "3fd51f8a",
   "metadata": {},
   "outputs": [
    {
     "data": {
      "text/plain": [
       "array([[0., 1.],\n",
       "       [0., 0.],\n",
       "       [0., 0.],\n",
       "       [0., 1.],\n",
       "       [0., 1.],\n",
       "       [1., 1.]])"
      ]
     },
     "execution_count": 32,
     "metadata": {},
     "output_type": "execute_result"
    }
   ],
   "source": [
    "all_prev_states"
   ]
  },
  {
   "cell_type": "code",
   "execution_count": 33,
   "id": "d1d49195",
   "metadata": {},
   "outputs": [
    {
     "name": "stdout",
     "output_type": "stream",
     "text": [
      "Final delta: \n",
      "[0.00255567 0.00191675]\n",
      "State 0\n",
      "sequence probability: 0.0025556685413173656\n"
     ]
    }
   ],
   "source": [
    "print(\"Final delta: \")\n",
    "print(delta)\n",
    "\n",
    "state = np.argmax(delta)\n",
    "print(\"State \" + str(state))\n",
    "\n",
    "\n",
    "sequence_prob = np.amax(delta)\n",
    "print(\"sequence probability: \" + str(sequence_prob))"
   ]
  },
  {
   "cell_type": "code",
   "execution_count": 23,
   "id": "311264e3",
   "metadata": {},
   "outputs": [
    {
     "name": "stdout",
     "output_type": "stream",
     "text": [
      "[1. 1.]\n",
      "state :1.0\n",
      "[0. 1.]\n",
      "state :0.0\n",
      "[0. 1.]\n",
      "state :0.0\n",
      "[0. 0.]\n",
      "state :0.0\n",
      "[0. 0.]\n",
      "state :0.0\n",
      "[0. 1.]\n",
      "state :0.0\n"
     ]
    }
   ],
   "source": [
    "# Starting from the last row of all_prev_states:\n",
    "for prev_states in all_prev_states[::-1]:\n",
    "    print(prev_states)\n",
    "    # Get the state\n",
    "    print(\"state :\" + str(prev_states[int(state)]))"
   ]
  },
  {
   "cell_type": "code",
   "execution_count": 19,
   "id": "704d5172",
   "metadata": {},
   "outputs": [
    {
     "data": {
      "text/plain": [
       "1.0"
      ]
     },
     "execution_count": 19,
     "metadata": {},
     "output_type": "execute_result"
    }
   ],
   "source": [
    "prev_states[1]"
   ]
  },
  {
   "cell_type": "code",
   "execution_count": 25,
   "id": "cecd559b",
   "metadata": {},
   "outputs": [
    {
     "name": "stdout",
     "output_type": "stream",
     "text": [
      "[1. 1.]\n",
      "STATE: 1.0\n",
      "[0. 1.]\n",
      "STATE: 1.0\n",
      "[0. 1.]\n",
      "STATE: 1.0\n",
      "[0. 0.]\n",
      "STATE: 0.0\n",
      "[0. 0.]\n",
      "STATE: 0.0\n",
      "[0. 1.]\n",
      "STATE: 0.0\n"
     ]
    }
   ],
   "source": [
    "# Get the most likely state and sequence at the end \n",
    "state = np.argmax(delta)\n",
    "sequence_prob = np.amax(delta)\n",
    "best_path = []\n",
    "\n",
    "for prev_states in all_prev_states[::-1]:\n",
    "    print(prev_states)\n",
    "    state = prev_states[int(state)]\n",
    "    print(\"STATE: \" + str(state))\n",
    "    best_path.append(state)\n",
    "\n",
    "# get the hidden state path\n",
    "hidden_state_path = np.array([hidden_states_dict[i] for i in best_path[::-1]])"
   ]
  },
  {
   "cell_type": "code",
   "execution_count": 26,
   "id": "a8597b3c",
   "metadata": {},
   "outputs": [
    {
     "data": {
      "text/plain": [
       "array(['no-traffic', 'no-traffic', 'no-traffic', 'traffic', 'traffic',\n",
       "       'traffic'], dtype='<U10')"
      ]
     },
     "execution_count": 26,
     "metadata": {},
     "output_type": "execute_result"
    }
   ],
   "source": [
    "hidden_state_path"
   ]
  },
  {
   "cell_type": "code",
   "execution_count": 36,
   "id": "47c0cb79",
   "metadata": {},
   "outputs": [
    {
     "data": {
      "text/plain": [
       "{0: 'no-traffic', 1: 'traffic'}"
      ]
     },
     "execution_count": 36,
     "metadata": {},
     "output_type": "execute_result"
    }
   ],
   "source": [
    "hidden_states_dict"
   ]
  },
  {
   "cell_type": "code",
   "execution_count": 31,
   "id": "59eca2ce",
   "metadata": {},
   "outputs": [
    {
     "name": "stdout",
     "output_type": "stream",
     "text": [
      "Current observation: on-time with code 0\n",
      "Delta x Transition\n"
     ]
    },
    {
     "ename": "NameError",
     "evalue": "name 'prev_delta' is not defined",
     "output_type": "error",
     "traceback": [
      "\u001b[0;31m---------------------------------------------------------------------------\u001b[0m",
      "\u001b[0;31mNameError\u001b[0m                                 Traceback (most recent call last)",
      "Input \u001b[0;32mIn [31]\u001b[0m, in \u001b[0;36m<cell line: 9>\u001b[0;34m()\u001b[0m\n\u001b[1;32m      7\u001b[0m \u001b[38;5;66;03m# multiply the previous delta with transition probabilities\u001b[39;00m\n\u001b[1;32m      8\u001b[0m \u001b[38;5;28mprint\u001b[39m(\u001b[38;5;124m\"\u001b[39m\u001b[38;5;124mDelta x Transition\u001b[39m\u001b[38;5;124m\"\u001b[39m)\n\u001b[0;32m----> 9\u001b[0m _delta_trans \u001b[38;5;241m=\u001b[39m np\u001b[38;5;241m.\u001b[39mmultiply(\u001b[43mprev_delta\u001b[49m, transition_probs\u001b[38;5;241m.\u001b[39mT)\n\u001b[1;32m     10\u001b[0m \u001b[38;5;28mprint\u001b[39m(_delta_trans)\n\u001b[1;32m     11\u001b[0m \u001b[38;5;66;03m# Get the likely scenario of the node. This could be from either column\u001b[39;00m\n",
      "\u001b[0;31mNameError\u001b[0m: name 'prev_delta' is not defined"
     ]
    }
   ],
   "source": [
    "# step through the first node\n",
    "trellis_node = 1\n",
    "# Get the current observation state\n",
    "current_observation = observation_states_dict[decode_observation_states[trellis_node]]\n",
    "print(\"Current observation: \" + decode_observation_states[trellis_node] + \" with code \" + str(current_observation))\n",
    "\n",
    "# multiply the previous delta with transition probabilities\n",
    "print(\"Delta x Transition\")\n",
    "_delta_trans = np.multiply(prev_delta, transition_probs.T)\n",
    "print(_delta_trans)\n",
    "# Get the likely scenario of the node. This could be from either column\n",
    "probable_state = np.argmax(_delta_trans, axis = 1)\n",
    "print(\"Highest probability _delta_trans from index: \")\n",
    "print(probable_state)\n",
    "probable_state_probs = np.amax(_delta_trans, axis = 1)\n",
    "print(\"The highest probability values at the index\")\n",
    "print(probable_state_probs)\n",
    "\n",
    "# Calculate the new delta\n",
    "new_delta = probable_state_probs * emission_probs[:, current_observation]\n",
    "print(\"New delta\")\n",
    "print(new_delta)\n"
   ]
  },
  {
   "cell_type": "code",
   "execution_count": 11,
   "id": "5e61a3a2",
   "metadata": {},
   "outputs": [
    {
     "data": {
      "text/plain": [
       "array(['no-traffic', 'no-traffic', 'traffic', 'traffic', 'traffic',\n",
       "       'no-traffic'], dtype='<U10')"
      ]
     },
     "execution_count": 11,
     "metadata": {},
     "output_type": "execute_result"
    }
   ],
   "source": [
    "new_hidden_states"
   ]
  },
  {
   "cell_type": "code",
   "execution_count": null,
   "id": "075d958d",
   "metadata": {},
   "outputs": [],
   "source": []
  }
 ],
 "metadata": {
  "kernelspec": {
   "display_name": "Python 3 (ipykernel)",
   "language": "python",
   "name": "python3"
  },
  "language_info": {
   "codemirror_mode": {
    "name": "ipython",
    "version": 3
   },
   "file_extension": ".py",
   "mimetype": "text/x-python",
   "name": "python",
   "nbconvert_exporter": "python",
   "pygments_lexer": "ipython3",
   "version": "3.9.12"
  }
 },
 "nbformat": 4,
 "nbformat_minor": 5
}
