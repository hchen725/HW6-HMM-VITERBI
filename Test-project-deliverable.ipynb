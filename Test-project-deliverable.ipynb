{
 "cells": [
  {
   "cell_type": "code",
   "execution_count": 1,
   "id": "222879c5",
   "metadata": {},
   "outputs": [],
   "source": [
    "from src.models import hmm, decoders\n",
    "import numpy as np"
   ]
  },
  {
   "cell_type": "code",
   "execution_count": 2,
   "id": "981cffef",
   "metadata": {},
   "outputs": [],
   "source": [
    "# index annotation observation_states=[i,j] \n",
    "observation_states = ['regulatory', 'regulatory-potential'] # observed regulatory activity in the TBX5 TAD of cardiomyocytes\n",
    "\n",
    "# index annotation hidden_states=[i,j]\n",
    "hidden_states = ['encode-atac', 'atac'] # In order of the two cCRE selection strategies (encode_atac, atac)\n",
    "\n",
    "# Import the HMM input data for progenitor cardiomyocytes (prefix: prog_cm)\n",
    "prog_cm_data = np.load('./data/ProjectDeliverable-ProgenitorCMs.npz')\n",
    "\n",
    "# Instantiate submodule class models.HiddenMarkovModel with progenitor cardiomyocytes\n",
    "# observation and hidden states, and prior, transition, and emission probabilities.\n",
    "prog_cm_hmm_object = hmm.HiddenMarkovModel(observation_states,\n",
    "                                           hidden_states,\n",
    "                                           prog_cm_data['prior_probabilities'], #  prior probabilities of hidden states in the order specified in the hidden_states list\n",
    "                                           prog_cm_data['transition_probabilities'], # transition_probabilities[:,hidden_states[i]]\n",
    "                                           prog_cm_data['emission_probabilities'])  # emission_probabilities[hidden_states[i],:][:,observation_states[j]]"
   ]
  },
  {
   "cell_type": "code",
   "execution_count": 3,
   "id": "2fb08a93",
   "metadata": {
    "scrolled": true
   },
   "outputs": [
    {
     "name": "stdout",
     "output_type": "stream",
     "text": [
      "[1. 0. 0. 0. 1. 0. 1. 1. 1. 1.]\n",
      "[[3.00000000e-01 8.00000000e-02 1.28000000e-02 2.04800000e-03\n",
      "  4.91520000e-04 1.96608000e-04 4.71859200e-05 2.83115520e-05\n",
      "  1.13246208e-05 3.01989888e-06]\n",
      " [4.00000000e-01 4.00000000e-02 9.60000000e-03 1.53600000e-03\n",
      "  9.83040000e-04 9.83040000e-05 9.43718400e-05 3.77487360e-05\n",
      "  1.50994944e-05 1.50994944e-06]]\n"
     ]
    },
    {
     "ename": "AssertionError",
     "evalue": "",
     "output_type": "error",
     "traceback": [
      "\u001b[0;31m---------------------------------------------------------------------------\u001b[0m",
      "\u001b[0;31mAssertionError\u001b[0m                            Traceback (most recent call last)",
      "Cell \u001b[0;32mIn[3], line 9\u001b[0m\n\u001b[1;32m      5\u001b[0m evaluate_viterbi_decoder_using_observation_states_of_prog_cm \u001b[38;5;241m=\u001b[39m prog_cm_viterbi_instance\u001b[38;5;241m.\u001b[39mbest_hidden_state_sequence(prog_cm_data[\u001b[38;5;124m'\u001b[39m\u001b[38;5;124mobservation_states\u001b[39m\u001b[38;5;124m'\u001b[39m])\n\u001b[1;32m      7\u001b[0m \u001b[38;5;66;03m# Evaluate the accuracy of using the progenitor cardiomyocyte HMM and Viterbi algorithm to decode the progenitor CM's CRE selection strategies\u001b[39;00m\n\u001b[1;32m      8\u001b[0m \u001b[38;5;66;03m# NOTE: Model is expected to perform with 80% accuracy\u001b[39;00m\n\u001b[0;32m----> 9\u001b[0m \u001b[38;5;28;01massert\u001b[39;00m np\u001b[38;5;241m.\u001b[39msum(prog_cm_data[\u001b[38;5;124m'\u001b[39m\u001b[38;5;124mhidden_states\u001b[39m\u001b[38;5;124m'\u001b[39m] \u001b[38;5;241m==\u001b[39m evaluate_viterbi_decoder_using_observation_states_of_prog_cm)\u001b[38;5;241m/\u001b[39m\u001b[38;5;28mlen\u001b[39m(prog_cm_data[\u001b[38;5;124m'\u001b[39m\u001b[38;5;124mobservation_states\u001b[39m\u001b[38;5;124m'\u001b[39m]) \u001b[38;5;241m==\u001b[39m \u001b[38;5;241m0.8\u001b[39m\n",
      "\u001b[0;31mAssertionError\u001b[0m: "
     ]
    }
   ],
   "source": [
    "# Instantiate submodule class models.ViterbiAlgorithm with the progenitor cardiomyocyte's HMM\n",
    "prog_cm_viterbi_instance = decoders.ViterbiAlgorithm(prog_cm_hmm_object)\n",
    "\n",
    "# Decode the hidden states (i.e., CRE selection strategy) for the progenitor CMs and evaluate the model performace\n",
    "evaluate_viterbi_decoder_using_observation_states_of_prog_cm = prog_cm_viterbi_instance.best_hidden_state_sequence(prog_cm_data['observation_states'])\n",
    "\n",
    "# Evaluate the accuracy of using the progenitor cardiomyocyte HMM and Viterbi algorithm to decode the progenitor CM's CRE selection strategies\n",
    "# NOTE: Model is expected to perform with 80% accuracy\n",
    "assert np.sum(prog_cm_data['hidden_states'] == evaluate_viterbi_decoder_using_observation_states_of_prog_cm)/len(prog_cm_data['observation_states']) == 0.8\n"
   ]
  },
  {
   "cell_type": "code",
   "execution_count": 7,
   "id": "9193b925",
   "metadata": {},
   "outputs": [
    {
     "name": "stdout",
     "output_type": "stream",
     "text": [
      "prog cm decoded states:\n",
      "['atac' 'encode-atac' 'encode-atac' 'encode-atac' 'atac' 'encode-atac'\n",
      " 'atac' 'atac' 'atac' 'atac']\n",
      "prog cm hidden states:\n",
      "['atac' 'encode-atac' 'encode-atac' 'atac' 'atac' 'encode-atac'\n",
      " 'encode-atac' 'encode-atac' 'encode-atac' 'encode-atac']\n",
      "accuracy: \n",
      "0.5\n"
     ]
    }
   ],
   "source": [
    "print(\"prog cm decoded states:\")\n",
    "print(evaluate_viterbi_decoder_using_observation_states_of_prog_cm)\n",
    "print(\"prog cm hidden states:\")\n",
    "print(prog_cm_data['hidden_states'])\n",
    "print(\"accuracy: \")\n",
    "print(np.sum(prog_cm_data['hidden_states'] == evaluate_viterbi_decoder_using_observation_states_of_prog_cm)/len(prog_cm_data['observation_states']))"
   ]
  },
  {
   "cell_type": "code",
   "execution_count": null,
   "id": "e55df537",
   "metadata": {},
   "outputs": [],
   "source": [
    "prim_cm_data = np.load('./data/ProjectDeliverable-PrimitiveCMs.npz')\n",
    "\n",
    "# Instantiate submodule class models.ViterbiAlgorithm with the progenitor cardiomyocyte's HMM\n",
    "prim_cm_viterbi_instance = decoders.ViterbiAlgorithm(prog_cm_hmm_object)\n",
    "\n",
    "# Decode the hidden states of the primitive cardiomyocyte's regulatory observation states\n",
    "decoded_hidden_states_for_observed_states_of_prim_cm = prim_cm_viterbi_instance.best_hidden_state_sequence(prim_cm_data['observation_states'])\n",
    "assert np.sum(prim_cm_data['hidden_states'] == decoded_hidden_states_for_observed_states_of_prim_cm)/len(prim_cm_data['observation_states']) == 0.8"
   ]
  },
  {
   "cell_type": "code",
   "execution_count": null,
   "id": "8a2d7ce6",
   "metadata": {},
   "outputs": [],
   "source": [
    "print(\"prim cm decoded states:\")\n",
    "print(decoded_hidden_states_for_observed_states_of_prim_cm)\n",
    "print(\"prim cm hidden states:\")\n",
    "print(prim_cm_data['hidden_states'])\n",
    "print(\"accuracy: \")\n",
    "print(np.sum(prim_cm_data['hidden_states'] == decoded_hidden_states_for_observed_states_of_prim_cm)/len(prim_cm_data['observation_states']))"
   ]
  },
  {
   "cell_type": "code",
   "execution_count": null,
   "id": "d0994d8a",
   "metadata": {},
   "outputs": [],
   "source": [
    "prim_cm_data['hidden_states'] == prog_cm_data['hidden_states']"
   ]
  },
  {
   "cell_type": "code",
   "execution_count": null,
   "id": "d906bcdd",
   "metadata": {},
   "outputs": [],
   "source": [
    "prim_cm_data['observation_states'] == prog_cm_data['observation_states']"
   ]
  },
  {
   "cell_type": "code",
   "execution_count": null,
   "id": "125ecf45",
   "metadata": {},
   "outputs": [],
   "source": []
  }
 ],
 "metadata": {
  "kernelspec": {
   "display_name": "Python 3 (ipykernel)",
   "language": "python",
   "name": "python3"
  },
  "language_info": {
   "codemirror_mode": {
    "name": "ipython",
    "version": 3
   },
   "file_extension": ".py",
   "mimetype": "text/x-python",
   "name": "python",
   "nbconvert_exporter": "python",
   "pygments_lexer": "ipython3",
   "version": "3.9.15"
  }
 },
 "nbformat": 4,
 "nbformat_minor": 5
}
