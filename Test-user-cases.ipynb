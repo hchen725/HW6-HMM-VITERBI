{
 "cells": [
  {
   "cell_type": "code",
   "execution_count": 1,
   "id": "222879c5",
   "metadata": {},
   "outputs": [],
   "source": [
    "from src.models import hmm, decoders\n",
    "import numpy as np"
   ]
  },
  {
   "cell_type": "markdown",
   "id": "b3ea3c23",
   "metadata": {},
   "source": [
    "# Test Use Case Lecture"
   ]
  },
  {
   "cell_type": "code",
   "execution_count": 2,
   "id": "981cffef",
   "metadata": {},
   "outputs": [],
   "source": [
    "# index annotation observation_states=[i,j]    \n",
    "observation_states = ['committed','ambivalent'] # A graduate student's dedication to their rotation lab\n",
    "\n",
    "# index annotation hidden_states=[i,j]\n",
    "hidden_states = ['R01','R21'] # The NIH funding source of the graduate student's rotation project \n",
    "\n",
    "# PONDERING QUESTION: How would a user define/compute their own HMM instantiation inputs to decode the hidden states for their use case observations?\n",
    "use_case_one_data = np.load('./data/UserCase-Lecture.npz')\n",
    "\n",
    "# Instantiate submodule class models.HiddenMarkovModel with\n",
    "# observation and hidden states and prior, transition, and emission probabilities.\n",
    "use_case_one_hmm = hmm.HiddenMarkovModel(observation_states,\n",
    "                                     hidden_states,\n",
    "                  use_case_one_data['prior_probabilities'], # prior probabilities of hidden states in the order specified in the hidden_states list\n",
    "                  use_case_one_data['transition_probabilities'], # transition_probabilities[:,hidden_states[i]]\n",
    "                  use_case_one_data['emission_probabilities']) # emission_probabilities[hidden_states[i],:][:,observation_states[j]]\n",
    "\n",
    "# Instantiate submodule class models.ViterbiAlgorithm using the use case one HMM \n",
    "use_case_one_viterbi = decoders.ViterbiAlgorithm(use_case_one_hmm)\n",
    "\n",
    " # Check if use case one HiddenMarkovAlgorithm instance is inherited in the subsequent ViterbiAlgorithm instance\n",
    "assert use_case_one_viterbi.hmm_object.observation_states == use_case_one_hmm.observation_states\n",
    "assert use_case_one_viterbi.hmm_object.hidden_states == use_case_one_hmm.hidden_states\n",
    "\n",
    "assert np.allclose(use_case_one_viterbi.hmm_object.prior_probabilities, use_case_one_hmm.prior_probabilities)\n",
    "assert np.allclose(use_case_one_viterbi.hmm_object.transition_probabilities, use_case_one_hmm.transition_probabilities)\n",
    "assert np.allclose(use_case_one_viterbi.hmm_object.emission_probabilities, use_case_one_hmm.emission_probabilities)\n",
    "\n",
    "# TODO: Check HMM dimensions and ViterbiAlgorithm\n",
    "\n",
    "# Find the best hidden state path for our observation states\n",
    "use_case_decoded_hidden_states = use_case_one_viterbi.best_hidden_state_sequence(use_case_one_data['observation_states'])\n",
    "assert np.alltrue(use_case_decoded_hidden_states == use_case_one_data['hidden_states'])"
   ]
  },
  {
   "cell_type": "code",
   "execution_count": 3,
   "id": "e8378431",
   "metadata": {},
   "outputs": [
    {
     "name": "stdout",
     "output_type": "stream",
     "text": [
      "decoded states:\n",
      "['R01' 'R01' 'R21' 'R21' 'R21' 'R01']\n",
      "original hidden states:\n",
      "['R01' 'R01' 'R21' 'R21' 'R21' 'R01']\n"
     ]
    }
   ],
   "source": [
    "print(\"decoded states:\")\n",
    "print(use_case_decoded_hidden_states)\n",
    "print(\"original hidden states:\")\n",
    "print(use_case_one_data['hidden_states'])"
   ]
  },
  {
   "cell_type": "markdown",
   "id": "a857d286",
   "metadata": {},
   "source": [
    "# Test User Case One"
   ]
  },
  {
   "cell_type": "code",
   "execution_count": 4,
   "id": "77f8bd96",
   "metadata": {},
   "outputs": [],
   "source": [
    "# index annotation observation_states=[i,j]    \n",
    "observation_states = ['on-time','late'] \n",
    "\n",
    "# index annotation hidden_states=[i,j]\n",
    "hidden_states = ['no-traffic','traffic']\n",
    "\n",
    "# PONDERING QUESTION: How would a user define/compute their own HMM instantiation inputs to decode the hidden states for their use case observations?\n",
    "use_case_one_data = np.load('./data/UserCase-One.npz')\n",
    "\n",
    "# Instantiate submodule class models.HiddenMarkovModel with\n",
    "# observation and hidden states and prior, transition, and emission probabilities.\n",
    "use_case_one_hmm = hmm.HiddenMarkovModel(observation_states,\n",
    "                                     hidden_states,\n",
    "                  use_case_one_data['prior_probabilities'], # prior probabilities of hidden states in the order specified in the hidden_states list\n",
    "                  use_case_one_data['transition_probabilities'], # transition_probabilities[:,hidden_states[i]]\n",
    "                  use_case_one_data['emission_probabilities']) # emission_probabilities[hidden_states[i],:][:,observation_states[j]]\n",
    "\n",
    "# Instantiate submodule class models.ViterbiAlgorithm using the use case one HMM \n",
    "use_case_one_viterbi = decoders.ViterbiAlgorithm(use_case_one_hmm)\n",
    "\n",
    " # Check if use case one HiddenMarkovAlgorithm instance is inherited in the subsequent ViterbiAlgorithm instance\n",
    "assert use_case_one_viterbi.hmm_object.observation_states == use_case_one_hmm.observation_states\n",
    "assert use_case_one_viterbi.hmm_object.hidden_states == use_case_one_hmm.hidden_states\n",
    "\n",
    "assert np.allclose(use_case_one_viterbi.hmm_object.prior_probabilities, use_case_one_hmm.prior_probabilities)\n",
    "assert np.allclose(use_case_one_viterbi.hmm_object.transition_probabilities, use_case_one_hmm.transition_probabilities)\n",
    "assert np.allclose(use_case_one_viterbi.hmm_object.emission_probabilities, use_case_one_hmm.emission_probabilities)\n",
    "\n",
    "# TODO: Check HMM dimensions and ViterbiAlgorithm\n",
    "\n",
    "# Find the best hidden state path for our observation states\n",
    "use_case_decoded_hidden_states = use_case_one_viterbi.best_hidden_state_sequence(use_case_one_data['observation_states'])\n",
    "# Update hidden states to fix error\n",
    "new_hidden_states = np.array(['no-traffic', 'no-traffic', 'traffic', 'traffic', 'traffic', 'no-traffic'])\n",
    "assert np.alltrue(use_case_decoded_hidden_states == new_hidden_states)"
   ]
  },
  {
   "cell_type": "code",
   "execution_count": 5,
   "id": "70b55f72",
   "metadata": {},
   "outputs": [
    {
     "name": "stdout",
     "output_type": "stream",
     "text": [
      "decoded states:\n",
      "['no-traffic' 'no-traffic' 'traffic' 'traffic' 'traffic' 'no-traffic']\n",
      "original hidden states:\n",
      "['no-traffic' 'no-traffic' 'traffic' 'traffic' 'traffic' 'no-traffic']\n"
     ]
    }
   ],
   "source": [
    "print(\"decoded states:\")\n",
    "print(use_case_decoded_hidden_states)\n",
    "print(\"original hidden states:\")\n",
    "print(new_hidden_states)"
   ]
  },
  {
   "cell_type": "code",
   "execution_count": null,
   "id": "53132c3c",
   "metadata": {},
   "outputs": [],
   "source": []
  },
  {
   "cell_type": "code",
   "execution_count": null,
   "id": "daeb9324",
   "metadata": {},
   "outputs": [],
   "source": []
  }
 ],
 "metadata": {
  "kernelspec": {
   "display_name": "Python 3 (ipykernel)",
   "language": "python",
   "name": "python3"
  },
  "language_info": {
   "codemirror_mode": {
    "name": "ipython",
    "version": 3
   },
   "file_extension": ".py",
   "mimetype": "text/x-python",
   "name": "python",
   "nbconvert_exporter": "python",
   "pygments_lexer": "ipython3",
   "version": "3.9.15"
  }
 },
 "nbformat": 4,
 "nbformat_minor": 5
}
